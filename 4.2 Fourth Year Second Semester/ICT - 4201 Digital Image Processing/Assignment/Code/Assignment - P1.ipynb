{
 "cells": [
  {
   "cell_type": "code",
   "execution_count": 3,
   "metadata": {},
   "outputs": [],
   "source": [
    "import cv2\n",
    "import numpy as np\n",
    "\n",
    "# Load the image as grayscale\n",
    "img = cv2.imread('white_bars.png', cv2.IMREAD_GRAYSCALE)\n",
    "\n",
    "# Define the kernels for 3x3, 7x7, and 9x9 filters\n",
    "kernel_3x3 = np.ones((3, 3), np.float32) / 9\n",
    "kernel_7x7 = np.ones((7, 7), np.float32) / 49\n",
    "kernel_9x9 = np.ones((9, 9), np.float32) / 81\n",
    "\n",
    "# Apply the filters using cv2.filter2D function\n",
    "img_3x3 = cv2.filter2D(img, -1, kernel_3x3)\n",
    "img_7x7 = cv2.filter2D(img, -1, kernel_7x7)\n",
    "img_9x9 = cv2.filter2D(img, -1, kernel_9x9)\n",
    "\n",
    "# Display the original and filtered images\n",
    "cv2.imshow('Original', img)\n",
    "cv2.imshow('3x3 filter', img_3x3)\n",
    "cv2.imshow('7x7 filter', img_7x7)\n",
    "cv2.imshow('9x9 filter', img_9x9)\n",
    "cv2.waitKey(0)\n",
    "cv2.destroyAllWindows()\n"
   ]
  },
  {
   "cell_type": "code",
   "execution_count": null,
   "metadata": {},
   "outputs": [],
   "source": []
  }
 ],
 "metadata": {
  "kernelspec": {
   "display_name": "Python 3",
   "language": "python",
   "name": "python3"
  },
  "language_info": {
   "codemirror_mode": {
    "name": "ipython",
    "version": 3
   },
   "file_extension": ".py",
   "mimetype": "text/x-python",
   "name": "python",
   "nbconvert_exporter": "python",
   "pygments_lexer": "ipython3",
   "version": "3.9.0"
  },
  "orig_nbformat": 4,
  "vscode": {
   "interpreter": {
    "hash": "1d5c1156327dacead463cc502c55ebae8ce9c8c01979cf154173ff808e75bf55"
   }
  }
 },
 "nbformat": 4,
 "nbformat_minor": 2
}
